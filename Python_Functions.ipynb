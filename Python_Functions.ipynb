{
 "cells": [
  {
   "cell_type": "markdown",
   "id": "1e43b5b9",
   "metadata": {},
   "source": [
    "### Functions in Python"
   ]
  },
  {
   "cell_type": "code",
   "execution_count": 28,
   "id": "90525b80",
   "metadata": {},
   "outputs": [
    {
     "data": {
      "text/plain": [
       "'odd'"
      ]
     },
     "execution_count": 28,
     "metadata": {},
     "output_type": "execute_result"
    }
   ],
   "source": [
    "#following code define the function and its body\n",
    "\n",
    "def is_even(num):        #function declaration and num is passed as parameter\n",
    "    if type(num)==int:\n",
    "        if num%2==0:\n",
    "            return 'even'\n",
    "        else:\n",
    "            return 'odd'\n",
    "    else:\n",
    "        print(\"Please input valid value\")\n",
    "        \n",
    "is_even(47)"
   ]
  },
  {
   "cell_type": "code",
   "execution_count": 5,
   "id": "cb239ebf",
   "metadata": {},
   "outputs": [
    {
     "name": "stdout",
     "output_type": "stream",
     "text": [
      "Please input valid value\n",
      "None\n",
      "Please input valid value\n",
      "None\n",
      "Please input valid value\n",
      "None\n",
      "Please input valid value\n",
      "None\n",
      "Please input valid value\n",
      "None\n",
      "Please input valid value\n",
      "None\n",
      "Please input valid value\n",
      "None\n",
      "Please input valid value\n",
      "None\n",
      "Please input valid value\n",
      "None\n",
      "Please input valid value\n",
      "None\n"
     ]
    }
   ],
   "source": [
    "#function call\n",
    "#function_name(input)\n",
    "\n",
    "for i in range(1,11):\n",
    "    x = is_even(i)     #values are passing through i (i is called argument) as input to is_even function\n",
    "    print(x)"
   ]
  },
  {
   "cell_type": "code",
   "execution_count": 6,
   "id": "211c9844",
   "metadata": {},
   "outputs": [
    {
     "name": "stdout",
     "output_type": "stream",
     "text": [
      "Please input valid value\n"
     ]
    }
   ],
   "source": [
    "is_even('hello')     #if user inputs wrong type of input data then outer if block of code is executed"
   ]
  },
  {
   "cell_type": "code",
   "execution_count": 7,
   "id": "47a246c3",
   "metadata": {},
   "outputs": [
    {
     "name": "stdout",
     "output_type": "stream",
     "text": [
      "None\n"
     ]
    }
   ],
   "source": [
    "# To read the documentation of any function \n",
    "# print(function_name.__doc__)\n",
    "print(is_even.__doc__)"
   ]
  },
  {
   "cell_type": "markdown",
   "id": "825cc729",
   "metadata": {},
   "source": [
    "### Types of Arguments in Python\n",
    "###### Default Argument\n",
    "###### Positional Argument\n",
    "###### Keyword Argument"
   ]
  },
  {
   "cell_type": "code",
   "execution_count": 8,
   "id": "23157f57",
   "metadata": {},
   "outputs": [],
   "source": [
    "# Default Argument\n",
    "# def power(a,b):\n",
    "#     return a**b\n",
    "def power(a=1,b=1):\n",
    "    return a**b"
   ]
  },
  {
   "cell_type": "code",
   "execution_count": 9,
   "id": "55ab2dd5",
   "metadata": {},
   "outputs": [
    {
     "data": {
      "text/plain": [
       "27"
      ]
     },
     "execution_count": 9,
     "metadata": {},
     "output_type": "execute_result"
    }
   ],
   "source": [
    "power(3,3)"
   ]
  },
  {
   "cell_type": "code",
   "execution_count": 10,
   "id": "276c3221",
   "metadata": {},
   "outputs": [
    {
     "data": {
      "text/plain": [
       "1"
      ]
     },
     "execution_count": 10,
     "metadata": {},
     "output_type": "execute_result"
    }
   ],
   "source": [
    "# but if user inputs only single or none value for that we use the default argument concept\n",
    "#power(4)\n",
    "power()"
   ]
  },
  {
   "cell_type": "code",
   "execution_count": 11,
   "id": "6814d851",
   "metadata": {},
   "outputs": [
    {
     "data": {
      "text/plain": [
       "8"
      ]
     },
     "execution_count": 11,
     "metadata": {},
     "output_type": "execute_result"
    }
   ],
   "source": [
    "# Positional Argument: Python follows the sequence of passing arguments i.e. in which order we pass the parameter we also receive the argument in that order\n",
    "power(2,3)"
   ]
  },
  {
   "cell_type": "code",
   "execution_count": 12,
   "id": "2429b413",
   "metadata": {},
   "outputs": [
    {
     "data": {
      "text/plain": [
       "8"
      ]
     },
     "execution_count": 12,
     "metadata": {},
     "output_type": "execute_result"
    }
   ],
   "source": [
    "# Keyword Argument: When we are not sure about the position of parameter, in that case we use keyword argument\n",
    "# just put the keyword name and pass the argument (Precedence: keyword,positional,default)\n",
    "power(b=3,a=2)"
   ]
  },
  {
   "cell_type": "markdown",
   "id": "258107b8",
   "metadata": {},
   "source": [
    "#### *args and **kwargs\n",
    "##### *args and **kwargs are special Python Keywords that are used to pass the variable length of arguments to a function"
   ]
  },
  {
   "cell_type": "code",
   "execution_count": 13,
   "id": "1de08768",
   "metadata": {},
   "outputs": [],
   "source": [
    "# *args: allows us to pass a variable number of non-keyword arguments to a function\n",
    "# *args allows us to pass n numbers of arguments in a function\n",
    "\n",
    "# def multiply(a,b):\n",
    "#     return a*b\n",
    "# In place of args we can put any text inside the function\n",
    "\n",
    "def multiply(*args):\n",
    "    product = 1\n",
    "    for i in args:\n",
    "        product = product*i\n",
    "    print(args)     #create tuple and stores items in tuple\n",
    "    return product"
   ]
  },
  {
   "cell_type": "code",
   "execution_count": 14,
   "id": "0b3fc0be",
   "metadata": {},
   "outputs": [
    {
     "name": "stdout",
     "output_type": "stream",
     "text": [
      "(2, 3, 9, 5, 7, 8)\n"
     ]
    },
    {
     "data": {
      "text/plain": [
       "15120"
      ]
     },
     "execution_count": 14,
     "metadata": {},
     "output_type": "execute_result"
    }
   ],
   "source": [
    "# multiply(2,3)\n",
    "multiply(2,3,9,5,7,8)    #*args handle any number of arguments"
   ]
  },
  {
   "cell_type": "code",
   "execution_count": 15,
   "id": "fa0058d1",
   "metadata": {},
   "outputs": [],
   "source": [
    "# **kwargs\n",
    "# **kwargs allows us to pass any number of keyword arguments.\n",
    "# Keyword arguments: mean that they contain a key-value pair, like a Python dictionary.\n",
    "def display(**kwargs):    #treated as dictionary\n",
    "    \n",
    "    for (key,value) in kwargs.items():\n",
    "        print(key,'->',value)"
   ]
  },
  {
   "cell_type": "code",
   "execution_count": 16,
   "id": "f92530ac",
   "metadata": {},
   "outputs": [
    {
     "name": "stdout",
     "output_type": "stream",
     "text": [
      "India -> Delhi\n",
      "Nepal -> Kathmandu\n",
      "Pakistan -> Islamabad\n"
     ]
    }
   ],
   "source": [
    "display(India='Delhi', Nepal='Kathmandu',Pakistan='Islamabad')"
   ]
  },
  {
   "cell_type": "markdown",
   "id": "2ae72665",
   "metadata": {},
   "source": [
    "#### Points to remember while using *args and **kwargs\n",
    "##### order of the arguments matter (normal -> *args -> **kwargs)\n",
    "#### The words \"args\" and \"kwargs\" are only a convention, you can use any nme of your choice"
   ]
  },
  {
   "cell_type": "markdown",
   "id": "a4a0c9ae",
   "metadata": {},
   "source": [
    "## How functions are stored in memory?\n",
    "##### Jab bhi python k interpreter ko def keyword diakhai deta hai wo samjh jata hai ki yhan function likha hua hai toh woh poore function ko jump maar k ek global frame create karega jhan sare variable define honge.And yahn se dubara flow def keyword yani function k pass aa jata hai(means function call ho gya). And separate memory block ban gya  hmare function k liye. function independent program ki tarah treat karta hai. Ab iss function k jitne bhi variable honge unka ek scope hoga jo inside function hi hoga. means jitne bhi variables honge wo isi scope k ander execute honge. Aur jaise hi function ka kam ho jayega to jo function ka block hai wo automatically destroy  ho jayega. function ka life uske call hone se return hone tak hota hai. "
   ]
  },
  {
   "cell_type": "markdown",
   "id": "56cd4717",
   "metadata": {},
   "source": [
    "### Functions without return statement"
   ]
  },
  {
   "cell_type": "code",
   "execution_count": 17,
   "id": "c14a2c06",
   "metadata": {},
   "outputs": [
    {
     "name": "stdout",
     "output_type": "stream",
     "text": [
      "odd\n",
      "None\n"
     ]
    }
   ],
   "source": [
    "# function without return statement\n",
    "def is_even(num):\n",
    "    if num%2==0:\n",
    "        print('even')\n",
    "    else:\n",
    "        print('odd')\n",
    "print(is_even(7))        #if no return statment in function then by default it returns 'None' to its print()"
   ]
  },
  {
   "cell_type": "code",
   "execution_count": 18,
   "id": "16febe09",
   "metadata": {},
   "outputs": [
    {
     "name": "stdout",
     "output_type": "stream",
     "text": [
      "None\n",
      "[1, 2, 3, 4]\n"
     ]
    }
   ],
   "source": [
    "# code snippet to understand functionality of None\n",
    "L = [1,2,3]\n",
    "print(L.append(4))\n",
    "print(L)"
   ]
  },
  {
   "cell_type": "markdown",
   "id": "4f151dc5",
   "metadata": {},
   "source": [
    "## Variable Scope"
   ]
  },
  {
   "cell_type": "code",
   "execution_count": 19,
   "id": "9c4138a3",
   "metadata": {},
   "outputs": [
    {
     "name": "stdout",
     "output_type": "stream",
     "text": [
      "5\n",
      "6\n",
      "5\n"
     ]
    }
   ],
   "source": [
    "#Example to illustrate scope of variable (CASE 1)\n",
    "def g(y):    # Here y is local variable and appears only inside the function\n",
    "    print(x)   #Because x is a global variable so can accessed inside the function \n",
    "    print(x+1)\n",
    "x=5\n",
    "g(x)\n",
    "print(x)    #Main program cannot use the local variable so here x=5 and will not print incremented the value"
   ]
  },
  {
   "cell_type": "code",
   "execution_count": 20,
   "id": "2f2a8df1",
   "metadata": {},
   "outputs": [
    {
     "name": "stdout",
     "output_type": "stream",
     "text": [
      "2\n",
      "5\n"
     ]
    }
   ],
   "source": [
    "#Example to illustrate scope of variable (CASE 2)\n",
    "def f(y):\n",
    "    x = 1   #Here x is Local variable and you can set same name for local and global variable\n",
    "    x += 1  #So here x=2 (incremented by 1) but incremented value will not change in main variable x.\n",
    "    print(x)\n",
    "x = 5     #Here x is global variable and gives value x=5\n",
    "f(x)\n",
    "print(x)"
   ]
  },
  {
   "cell_type": "code",
   "execution_count": 21,
   "id": "ed98ff52",
   "metadata": {},
   "outputs": [
    {
     "ename": "UnboundLocalError",
     "evalue": "cannot access local variable 'x' where it is not associated with a value",
     "output_type": "error",
     "traceback": [
      "\u001b[1;31m---------------------------------------------------------------------------\u001b[0m",
      "\u001b[1;31mUnboundLocalError\u001b[0m                         Traceback (most recent call last)",
      "Cell \u001b[1;32mIn[21], line 6\u001b[0m\n\u001b[0;32m      4\u001b[0m     x\u001b[38;5;241m+\u001b[39m\u001b[38;5;241m=\u001b[39m\u001b[38;5;241m1\u001b[39m    \u001b[38;5;66;03m#here it gives an error because here you can't change the value of global variable\u001b[39;00m\n\u001b[0;32m      5\u001b[0m x \u001b[38;5;241m=\u001b[39m\u001b[38;5;241m5\u001b[39m\n\u001b[1;32m----> 6\u001b[0m h(x)\n\u001b[0;32m      7\u001b[0m \u001b[38;5;28mprint\u001b[39m(x)\n",
      "Cell \u001b[1;32mIn[21], line 4\u001b[0m, in \u001b[0;36mh\u001b[1;34m(y)\u001b[0m\n\u001b[0;32m      2\u001b[0m \u001b[38;5;28;01mdef\u001b[39;00m \u001b[38;5;21mh\u001b[39m(y):\n\u001b[0;32m      3\u001b[0m    \u001b[38;5;66;03m# global x   #only by declaring x as global you can change x's value,but not a good practice\u001b[39;00m\n\u001b[1;32m----> 4\u001b[0m     x\u001b[38;5;241m+\u001b[39m\u001b[38;5;241m=\u001b[39m\u001b[38;5;241m1\u001b[39m\n",
      "\u001b[1;31mUnboundLocalError\u001b[0m: cannot access local variable 'x' where it is not associated with a value"
     ]
    }
   ],
   "source": [
    "# Example to illustrate scope of variable (CASE 3) (importance of global keyword)\n",
    "def h(y):\n",
    "   # global x   #only by declaring x as global you can change x's value,but not a good practice\n",
    "    x+=1    #here it gives an error because here you can't change the value of global variable\n",
    "x =5\n",
    "h(x)\n",
    "print(x)"
   ]
  },
  {
   "cell_type": "code",
   "execution_count": null,
   "id": "78a0744c",
   "metadata": {},
   "outputs": [],
   "source": [
    "#Example to illustrate scope of variable (CASE 4) with return statement\n",
    "def f(x):\n",
    "    x = x+1\n",
    "    print('In function f(x): x=',x)\n",
    "    return x\n",
    "x = 3\n",
    "z = f(x)\n",
    "print('In Main program scope: z=',z)\n",
    "print('In Main program scope: x=',x)"
   ]
  },
  {
   "cell_type": "markdown",
   "id": "e0545b0f",
   "metadata": {},
   "source": [
    "### Nested Function"
   ]
  },
  {
   "cell_type": "code",
   "execution_count": 29,
   "id": "2059d8c6",
   "metadata": {},
   "outputs": [
    {
     "name": "stdout",
     "output_type": "stream",
     "text": [
      "Inside function g\n",
      "Inside function f\n"
     ]
    }
   ],
   "source": [
    "# Example to illustrate Nested Function (Case 1)\n",
    "def f():\n",
    "    def g():\n",
    "        print('Inside function g')\n",
    "    g()\n",
    "    print('Inside function f')\n",
    "f()"
   ]
  },
  {
   "cell_type": "code",
   "execution_count": 41,
   "id": "12de8eba",
   "metadata": {},
   "outputs": [
    {
     "ename": "TypeError",
     "evalue": "g() missing 1 required positional argument: 'y'",
     "output_type": "error",
     "traceback": [
      "\u001b[1;31m---------------------------------------------------------------------------\u001b[0m",
      "\u001b[1;31mTypeError\u001b[0m                                 Traceback (most recent call last)",
      "Cell \u001b[1;32mIn[41], line 7\u001b[0m\n\u001b[0;32m      5\u001b[0m     g()\n\u001b[0;32m      6\u001b[0m     \u001b[38;5;28mprint\u001b[39m(\u001b[38;5;124m'\u001b[39m\u001b[38;5;124mInside function f\u001b[39m\u001b[38;5;124m'\u001b[39m)\n\u001b[1;32m----> 7\u001b[0m g()\n",
      "\u001b[1;31mTypeError\u001b[0m: g() missing 1 required positional argument: 'y'"
     ]
    }
   ],
   "source": [
    "# Example to illustrate Nested Function (Case 2)\n",
    "def f():\n",
    "    def g():    #Connected to its outer function not with main function directly\n",
    "        print('Inside function g')   #hidden from main()\n",
    "    g()\n",
    "    print('Inside function f')\n",
    "g()   #you cannot access nested function directly using main function"
   ]
  },
  {
   "cell_type": "code",
   "execution_count": null,
   "id": "12e703fb",
   "metadata": {},
   "outputs": [],
   "source": [
    "# Example to illustrate Nested Function (Case 3)\n",
    "def f():\n",
    "    def g():\n",
    "        print('Inside function g')\n",
    "        f()            #loops infinitely and gives an error\n",
    "    g()\n",
    "    print('Inside function f')\n",
    "f()"
   ]
  },
  {
   "cell_type": "code",
   "execution_count": null,
   "id": "59014405",
   "metadata": {},
   "outputs": [],
   "source": [
    "# Example to illustrate Nested Function (Case 4)\n",
    "def g(x):\n",
    "    def h():\n",
    "        x = 'abc'  #returns None because of no return statement\n",
    "    x = x+1\n",
    "    print('In g(x): x=',x) \n",
    "    h()\n",
    "    return x\n",
    "x = 3\n",
    "z = g(x)"
   ]
  },
  {
   "cell_type": "code",
   "execution_count": null,
   "id": "55862c3d",
   "metadata": {},
   "outputs": [],
   "source": [
    "# Example to illustrate Nested Function (Case 5)\n",
    "def g(x):\n",
    "    def h(x):\n",
    "        x = x+1\n",
    "        print('In h(x): x=',x)   #returns None because of no return statement\n",
    "    x = x+1\n",
    "    print('In g(x): x= ',x)\n",
    "    h(x)\n",
    "    return x\n",
    "x = 3\n",
    "z = g(x)\n",
    "print('In Main program scope: x=',x)\n",
    "print('In Mian program scope: z=',z)"
   ]
  },
  {
   "cell_type": "markdown",
   "id": "2f24c78b",
   "metadata": {},
   "source": [
    "### Functions are First Class Citizens\n",
    "Function can act as a data type as shown below"
   ]
  },
  {
   "cell_type": "code",
   "execution_count": 30,
   "id": "8b54201b",
   "metadata": {},
   "outputs": [
    {
     "data": {
      "text/plain": [
       "2901985769600"
      ]
     },
     "execution_count": 30,
     "metadata": {},
     "output_type": "execute_result"
    }
   ],
   "source": [
    "# type and id: function is immutable data type i.e. we cannot change the value\n",
    "def square(num):\n",
    "    return num**2\n",
    "square(8)\n",
    "type(square)\n",
    "a = 8\n",
    "type(a)\n",
    "id(square)"
   ]
  },
  {
   "cell_type": "code",
   "execution_count": 31,
   "id": "7d5fb97f",
   "metadata": {},
   "outputs": [
    {
     "data": {
      "text/plain": [
       "2901985769600"
      ]
     },
     "execution_count": 31,
     "metadata": {},
     "output_type": "execute_result"
    }
   ],
   "source": [
    "# reassign\n",
    "x = square\n",
    "x\n",
    "x(8)\n",
    "id(x)"
   ]
  },
  {
   "cell_type": "code",
   "execution_count": null,
   "id": "9dad307a",
   "metadata": {},
   "outputs": [],
   "source": [
    "# delete a function\n",
    "del square\n",
    "square(4)"
   ]
  },
  {
   "cell_type": "code",
   "execution_count": null,
   "id": "771012be",
   "metadata": {},
   "outputs": [],
   "source": [
    "# storing\n",
    "L = [1,2,3,square]\n",
    "L\n",
    "L[-1](4)"
   ]
  },
  {
   "cell_type": "code",
   "execution_count": 32,
   "id": "9d5e3ed0",
   "metadata": {},
   "outputs": [
    {
     "name": "stdout",
     "output_type": "stream",
     "text": [
      "7\n"
     ]
    }
   ],
   "source": [
    "# returning a function: Here one function returning other function and we can access nested function from main function\n",
    "def f():\n",
    "    def x(a,b):\n",
    "        return a+b\n",
    "    return x   # x is a function here; f() is returning a function x and value stored in val\n",
    "val = f()(3,4)\n",
    "print(val)"
   ]
  },
  {
   "cell_type": "code",
   "execution_count": 33,
   "id": "58a7ec24",
   "metadata": {},
   "outputs": [
    {
     "name": "stdout",
     "output_type": "stream",
     "text": [
      "Inside func_b\n",
      "Inside func_a\n",
      "None\n"
     ]
    }
   ],
   "source": [
    "# function as an argument\n",
    "def func_a():\n",
    "    print('Inside func_a')\n",
    "def func_b(z):\n",
    "    print('Inside func_b')\n",
    "    return z()\n",
    "print(func_b(func_a))   #function as input/argument"
   ]
  },
  {
   "cell_type": "markdown",
   "id": "9a692f33",
   "metadata": {},
   "source": [
    "#### Benefits of using functions\n",
    "##### Code Modularity\n",
    "##### Code Readibility\n",
    "##### Code Reusability"
   ]
  },
  {
   "cell_type": "markdown",
   "id": "8c05ea19",
   "metadata": {},
   "source": [
    "### Lambda Function\n",
    "Lambda function doesn't have name.\n",
    "A lamda function is a small anonymous function.\n",
    "A lambda function can take any number of arguments, but can only have one expression.\n",
    "Syntax: lambda a,b: a+b\n",
    "Here, lambda is keyword to understand that this is a lambda()\n",
    "a,b are parameters\n",
    "a+b is expression i.e. operation"
   ]
  },
  {
   "cell_type": "code",
   "execution_count": 34,
   "id": "3bee3d87",
   "metadata": {},
   "outputs": [
    {
     "data": {
      "text/plain": [
       "16"
      ]
     },
     "execution_count": 34,
     "metadata": {},
     "output_type": "execute_result"
    }
   ],
   "source": [
    "# Example of Lambda function (to find square) a -> a^2\n",
    "a = lambda x:x**2\n",
    "a(4)"
   ]
  },
  {
   "cell_type": "code",
   "execution_count": 35,
   "id": "68b18bab",
   "metadata": {},
   "outputs": [
    {
     "data": {
      "text/plain": [
       "110"
      ]
     },
     "execution_count": 35,
     "metadata": {},
     "output_type": "execute_result"
    }
   ],
   "source": [
    "# Example of Lambda function (to find sum) x,y-> x+y\n",
    "sum = lambda a,b: a+b\n",
    "sum(45,65)"
   ]
  },
  {
   "cell_type": "markdown",
   "id": "9037d29a",
   "metadata": {},
   "source": [
    "### Differences between Normal function and Lambda function\n",
    "   No Name\n",
    "   lambda has no return value (infact they returns a function)\n",
    "   lambda is written in one line\n",
    "   not reusable\n",
    "Then why use lambda functions?\n",
    "Reason: They are used with HOF (Higher Order Functions)"
   ]
  },
  {
   "cell_type": "code",
   "execution_count": 36,
   "id": "15286180",
   "metadata": {},
   "outputs": [
    {
     "data": {
      "text/plain": [
       "False"
      ]
     },
     "execution_count": 36,
     "metadata": {},
     "output_type": "execute_result"
    }
   ],
   "source": [
    "# check if a string is 'a' using lambda function\n",
    "a = lambda str: 'a' in str\n",
    "a('jewer')"
   ]
  },
  {
   "cell_type": "code",
   "execution_count": 37,
   "id": "0b162a17",
   "metadata": {},
   "outputs": [
    {
     "data": {
      "text/plain": [
       "'even'"
      ]
     },
     "execution_count": 37,
     "metadata": {},
     "output_type": "execute_result"
    }
   ],
   "source": [
    "# odd or even using lambda\n",
    "a = lambda x:'even' if x%2==0 else 'odd'\n",
    "a(6)"
   ]
  },
  {
   "cell_type": "markdown",
   "id": "c964e758",
   "metadata": {},
   "source": [
    "### Higher order functions\n",
    "Higher order functions are those functions who returns functions\n",
    "OR\n",
    "Receives function as input"
   ]
  },
  {
   "cell_type": "code",
   "execution_count": 38,
   "id": "3464e6ea",
   "metadata": {},
   "outputs": [
    {
     "name": "stdout",
     "output_type": "stream",
     "text": [
      "[1, 8, 27, 64, 125]\n"
     ]
    }
   ],
   "source": [
    "# Example\n",
    "def square(x):\n",
    "    return x**2\n",
    "#HOF\n",
    "def transform(f,L):   #takes input as input\n",
    "    output = []\n",
    "    for i in L:\n",
    "        output.append(f(i))\n",
    "    print(output)\n",
    "L = [1,2,3,4,5]\n",
    "#transform(square,L)\n",
    "transform(lambda x:x**3,L)"
   ]
  },
  {
   "cell_type": "markdown",
   "id": "f6c3d4e4",
   "metadata": {},
   "source": [
    "## Map()"
   ]
  },
  {
   "cell_type": "code",
   "execution_count": 39,
   "id": "0c80a787",
   "metadata": {},
   "outputs": [
    {
     "data": {
      "text/plain": [
       "[1, 4, 9, 16, 25]"
      ]
     },
     "execution_count": 39,
     "metadata": {},
     "output_type": "execute_result"
    }
   ],
   "source": [
    "# Square the items of a list\n",
    "list(map(lambda x:x**2,[1,2,3,4,5]))"
   ]
  },
  {
   "cell_type": "code",
   "execution_count": 40,
   "id": "c733959c",
   "metadata": {},
   "outputs": [
    {
     "data": {
      "text/plain": [
       "['odd', 'even', 'odd', 'even', 'odd']"
      ]
     },
     "execution_count": 40,
     "metadata": {},
     "output_type": "execute_result"
    }
   ],
   "source": [
    "# odd/even labeling of list items\n",
    "L = [1,2,3,4,5]\n",
    "list(map(lambda x:'even' if x%2 == 0 else 'odd',L))"
   ]
  },
  {
   "cell_type": "code",
   "execution_count": null,
   "id": "5a2b93ed",
   "metadata": {},
   "outputs": [],
   "source": []
  },
  {
   "cell_type": "markdown",
   "id": "1ca23471",
   "metadata": {},
   "source": [
    "### Filter()"
   ]
  },
  {
   "cell_type": "code",
   "execution_count": null,
   "id": "564f533d",
   "metadata": {},
   "outputs": [],
   "source": [
    "# numbers greatere than 5\n",
    "L = [8,6,2,4,1,9]\n",
    "list(filter(lambda x:x>5,L))"
   ]
  },
  {
   "cell_type": "code",
   "execution_count": null,
   "id": "a57bb698",
   "metadata": {},
   "outputs": [],
   "source": [
    "# fetch fruits starting with 'a'\n",
    "fruits = ['apple', 'guava','mango','cherry']\n",
    "list(filter(lambda x:x.startswith('a'),fruits))"
   ]
  },
  {
   "cell_type": "markdown",
   "id": "867ecdca",
   "metadata": {},
   "source": [
    "### Reduce()"
   ]
  },
  {
   "cell_type": "code",
   "execution_count": null,
   "id": "6dd479e0",
   "metadata": {},
   "outputs": [],
   "source": [
    "# sum of all items\n",
    "import functools\n",
    "functools.reduce(lambda x,y:x+y,[1,2,3,4,5])"
   ]
  },
  {
   "cell_type": "code",
   "execution_count": null,
   "id": "c80a2817",
   "metadata": {},
   "outputs": [],
   "source": [
    "# find min\n",
    "functools.reduce(lambda x,y:x if x<y else y,[23,85,96,14,75,36])"
   ]
  }
 ],
 "metadata": {
  "kernelspec": {
   "display_name": "Python 3 (ipykernel)",
   "language": "python",
   "name": "python3"
  },
  "language_info": {
   "codemirror_mode": {
    "name": "ipython",
    "version": 3
   },
   "file_extension": ".py",
   "mimetype": "text/x-python",
   "name": "python",
   "nbconvert_exporter": "python",
   "pygments_lexer": "ipython3",
   "version": "3.11.5"
  }
 },
 "nbformat": 4,
 "nbformat_minor": 5
}
